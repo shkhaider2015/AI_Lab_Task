{
 "cells": [
  {
   "cell_type": "code",
   "execution_count": 2,
   "metadata": {},
   "outputs": [
    {
     "name": "stdout",
     "output_type": "stream",
     "text": [
      "Hello World\n"
     ]
    }
   ],
   "source": [
    "print(\"Hello World\")"
   ]
  },
  {
   "cell_type": "code",
   "execution_count": 3,
   "metadata": {},
   "outputs": [
    {
     "name": "stdout",
     "output_type": "stream",
     "text": [
      "Name : Shakeel Haider\n",
      "Contact : shkHaider2015@gmail.com\n"
     ]
    }
   ],
   "source": [
    "firstName = \"Shakeel\"\n",
    "lastName = \"Haider\"\n",
    "email = \"shkHaider2015@gmail.com\";\n",
    "\n",
    "print(\"Name : \" + firstName + \" \" + lastName)\n",
    "print(\"Contact : \" + email)"
   ]
  },
  {
   "cell_type": "code",
   "execution_count": 4,
   "metadata": {},
   "outputs": [
    {
     "name": "stdout",
     "output_type": "stream",
     "text": [
      "Total is 46\n"
     ]
    }
   ],
   "source": [
    "fNum = 43;\n",
    "lNum = 3;\n",
    "sum = fNum + lNum;\n",
    "\n",
    "print(\"Total is \" + str(sum))"
   ]
  },
  {
   "cell_type": "code",
   "execution_count": 5,
   "metadata": {},
   "outputs": [
    {
     "name": "stdout",
     "output_type": "stream",
     "text": [
      "total is 8.0\n"
     ]
    }
   ],
   "source": [
    "fnum = 3.3;\n",
    "lnum = 4.7;\n",
    "sum = fnum + lnum;\n",
    "\n",
    "print(\"total is \" + str(sum))"
   ]
  },
  {
   "cell_type": "code",
   "execution_count": 6,
   "metadata": {},
   "outputs": [
    {
     "name": "stdout",
     "output_type": "stream",
     "text": [
      "Reminder !! ...variables naming rule\n"
     ]
    }
   ],
   "source": [
    "print(\"Reminder !! ...variables naming rule\")"
   ]
  },
  {
   "cell_type": "code",
   "execution_count": 7,
   "metadata": {},
   "outputs": [
    {
     "name": "stdout",
     "output_type": "stream",
     "text": [
      "25\n",
      "15\n",
      "1.1538461538461537\n",
      "195\n"
     ]
    }
   ],
   "source": [
    "num1 = 12;\n",
    "num2 = 13;\n",
    "x = num1 + num2;\n",
    "num1 += 3;\n",
    "z = num1 / num2;\n",
    "a = num1 * num2;\n",
    "\n",
    "print(x);\n",
    "\n",
    "print(num1);\n",
    "\n",
    "print(z);\n",
    "\n",
    "print(a);"
   ]
  },
  {
   "cell_type": "code",
   "execution_count": 8,
   "metadata": {},
   "outputs": [
    {
     "name": "stdout",
     "output_type": "stream",
     "text": [
      "python follow precedence rules\n",
      "7.0\n",
      "7.5\n",
      "7.0\n"
     ]
    }
   ],
   "source": [
    "num1 = 1 + 4 * 3 / 2;\n",
    "num2 = (1 + 4) * 3 / 2;\n",
    "num3 = 1 + (4 * 3) / 2;\n",
    "\n",
    "print(\"python follow precedence rules\");\n",
    "print(num1);\n",
    "print(num2);\n",
    "print(num3);"
   ]
  },
  {
   "cell_type": "code",
   "execution_count": 9,
   "metadata": {},
   "outputs": [
    {
     "name": "stdout",
     "output_type": "stream",
     "text": [
      "My name is Shakeel and i'm living in karachi\n"
     ]
    }
   ],
   "source": [
    "name = \"Shakeel\";\n",
    "language = \"Pashto\";\n",
    "city = \"karachi\";\n",
    "\n",
    "print(\"My name is \" + str(name) + \" and i'm living in \" + str(city));"
   ]
  },
  {
   "cell_type": "code",
   "execution_count": 10,
   "metadata": {},
   "outputs": [
    {
     "name": "stdout",
     "output_type": "stream",
     "text": [
      "first number is less than second number\n"
     ]
    }
   ],
   "source": [
    "num1 = 3;\n",
    "num2 = 5;\n",
    "\n",
    "if num1 == num2:\n",
    "    print(\"they are equal\");\n",
    "elif num1 < num2:\n",
    "    print(\"first number is less than second number\");\n",
    "else:\n",
    "    print(\"first number is greater than second number\");"
   ]
  },
  {
   "cell_type": "code",
   "execution_count": 11,
   "metadata": {},
   "outputs": [
    {
     "name": "stdout",
     "output_type": "stream",
     "text": [
      "Shakeel win !!\n"
     ]
    }
   ],
   "source": [
    "name1 = \"Shakeel\";\n",
    "shakeelMarks = 55;\n",
    "name2 = \"zeeshan\";\n",
    "zeeshanMarks = 75;\n",
    "\n",
    "if shakeelMarks == zeeshanMarks:\n",
    "    print(\"Draw !!\");\n",
    "\n",
    "elif shakeelMarks < zeeshanMarks:\n",
    "    print(str(name1) + \" win !!\");\n",
    "else:\n",
    "    print(str(name2) + \" win !!\");"
   ]
  },
  {
   "cell_type": "code",
   "execution_count": 12,
   "metadata": {},
   "outputs": [
    {
     "name": "stdout",
     "output_type": "stream",
     "text": [
      "Shakeel win !!\n"
     ]
    }
   ],
   "source": [
    "name1 = \"Shakeel\";\n",
    "shakeelMarks = 55;\n",
    "name2 = \"zeeshan\";\n",
    "zeeshanMarks = 75;\n",
    "\n",
    "if shakeelMarks == zeeshanMarks:\n",
    "    print(\"Draw !!\");\n",
    "elif shakeelMarks < zeeshanMarks:\n",
    "    print(str(name1) + \" win !!\");\n",
    "else:\n",
    "    print(str(name2) + \" win !!\");"
   ]
  },
  {
   "cell_type": "code",
   "execution_count": 13,
   "metadata": {},
   "outputs": [
    {
     "name": "stdout",
     "output_type": "stream",
     "text": [
      "join gym\n"
     ]
    }
   ],
   "source": [
    "shakeelWeight = 90;\n",
    "nomanWeight = 72;\n",
    "dawoodWeight = 53;\n",
    "\n",
    "sAge = 24;\n",
    "nAge = 19;\n",
    "dAge = 23;\n",
    "\n",
    "if shakeelWeight > 75 and sAge >20:\n",
    "    print(\"join gym\");\n",
    "elif dawoodWeight < 65 or (dAge < 30 and dAge > 18):\n",
    "    print(\"problem !!\");"
   ]
  },
  {
   "cell_type": "code",
   "execution_count": 14,
   "metadata": {},
   "outputs": [
    {
     "name": "stdout",
     "output_type": "stream",
     "text": [
      "name is cleared !!\n",
      "identified\n"
     ]
    }
   ],
   "source": [
    "name = \"shakeel\";\n",
    "studentId = 1735;\n",
    "\n",
    "if name == \"shakeel\":\n",
    "    print(\"name is cleared !!\");\n",
    "    if studentId == 1735:\n",
    "        print(\"identified\");\n",
    "    else:\n",
    "        print(\"wrong person\");\n",
    "else:\n",
    "    print(\"wrong person\");"
   ]
  },
  {
   "cell_type": "code",
   "execution_count": 15,
   "metadata": {},
   "outputs": [
    {
     "name": "stdout",
     "output_type": "stream",
     "text": [
      "python follow precedence rules\n",
      "7.0\n",
      "7.5\n",
      "7.0\n"
     ]
    }
   ],
   "source": [
    "# addition will takes place after multiplication and addition\n",
    "num1 = 1 + 4 * 3 / 2;\n",
    "\n",
    "# same as 5 * 3 /2 \n",
    "num2 = (1 + 4) * 3 / 2;\n",
    "\n",
    "# same as 1+12/2 \n",
    "num3 = 1 + (4 * 3) / 2;\n",
    "\n",
    "print(\"python follow precedence rules\");\n",
    "\n",
    "# this should produce 7.5\n",
    "print(num1);\n",
    "print(num2);\n",
    "print(num3);"
   ]
  },
  {
   "cell_type": "code",
   "execution_count": 16,
   "metadata": {},
   "outputs": [
    {
     "name": "stdout",
     "output_type": "stream",
     "text": [
      "Biryani != Polaow\n"
     ]
    }
   ],
   "source": [
    "foods = [ \"Nihari\", \"Biryani\", \"Karahi\", \"Qorma\", \"Salad\", \"Kabab\", \"Polaow\" ];\n",
    "\n",
    "print(str(foods[1]) + \" != \" + str(foods[6]));"
   ]
  },
  {
   "cell_type": "code",
   "execution_count": 17,
   "metadata": {},
   "outputs": [
    {
     "name": "stdout",
     "output_type": "stream",
     "text": [
      "['karachi', 'Miltan', 'Faisalabad']\n",
      "After append(Mardan)  \n",
      "['karachi', 'Miltan', 'Faisalabad', 'Mardan']\n",
      "After insert(0, Peshawar)\n",
      "['Peshawar', 'karachi', 'Miltan', 'Faisalabad', 'Mardan']\n"
     ]
    }
   ],
   "source": [
    "cities = [\"karachi\", \"Miltan\", \"Faisalabad\"]\n",
    "\n",
    "print(cities);\n",
    "\n",
    "cities.append(\"Mardan\")\n",
    "\n",
    "print(\"After append(Mardan)  \")\n",
    "print(cities)\n",
    "\n",
    "cities.insert(0, \"Peshawar\")\n",
    "\n",
    "print(\"After insert(0, Peshawar)\")\n",
    "print(cities)"
   ]
  },
  {
   "cell_type": "code",
   "execution_count": 18,
   "metadata": {},
   "outputs": [
    {
     "name": "stdout",
     "output_type": "stream",
     "text": [
      "['Ronaldo', 'Drogba', 'Lempard', 'Messi', 'Isco', 'Hazard']\n",
      "Best Players Are :\n",
      "['Drogba', 'Lempard', 'Messi']\n"
     ]
    }
   ],
   "source": [
    "players = [\"Ronaldo\", \"Drogba\", \"Lempard\", \"Messi\", \"Isco\", \"Hazard\",]\n",
    "\n",
    "print(players)\n",
    "print(\"Best Players Are :\")\n",
    "print(players[1:4])"
   ]
  },
  {
   "cell_type": "code",
   "execution_count": 19,
   "metadata": {},
   "outputs": [
    {
     "name": "stdout",
     "output_type": "stream",
     "text": [
      "['Messi', 'Suarez', 'Coutinho', 'Dembele', 'Pique']\n",
      "['Messi', 'Suarez', 'Coutinho', 'Dembele']\n",
      "['Messi', 'Suarez', 'Coutinho']\n"
     ]
    }
   ],
   "source": [
    "players = [\"Messi\", \"Suarez\", \"Coutinho\", \"Dembele\", \"Pique\"]\n",
    "print(players)\n",
    "\n",
    "del players[4]\n",
    "\n",
    "print(players)\n",
    "\n",
    "players.remove(\"Dembele\")\n",
    "\n",
    "print(players)"
   ]
  },
  {
   "cell_type": "code",
   "execution_count": 20,
   "metadata": {},
   "outputs": [
    {
     "name": "stdout",
     "output_type": "stream",
     "text": [
      "['Messi', 'Suarez', 'Coutinho', 'Dembele', 'Pique']\n",
      "Attackers are :\n",
      "['Messi', 'Suarez', 'Coutinho', 'Dembele']\n"
     ]
    }
   ],
   "source": [
    "players = [\"Messi\", \"Suarez\", \"Coutinho\", \"Dembele\", \"Pique\"]\n",
    "print(players)\n",
    "\n",
    "defenders = players.pop(4)\n",
    "\n",
    "print(\"Attackers are :\")\n",
    "\n",
    "\n",
    "print(players)"
   ]
  },
  {
   "cell_type": "code",
   "execution_count": 21,
   "metadata": {},
   "outputs": [
    {
     "name": "stdout",
     "output_type": "stream",
     "text": [
      "('Karachi', 'Lahore', 'Islamabad', 'Peshawar', 'Mardan')\n",
      "City Name: Karachi\n",
      "City Name: Lahore\n",
      "City Name: Islamabad\n",
      "City Name: Peshawar\n",
      "City Name: Mardan\n"
     ]
    }
   ],
   "source": [
    "Tuple1 = (\"Karachi\", \"Lahore\", \"Islamabad\", \"Peshawar\", \"Mardan\"); \n",
    "print (Tuple1);\n",
    "\n",
    "for a in Tuple1: \n",
    "    print(\"City Name: \" + a);"
   ]
  },
  {
   "cell_type": "code",
   "execution_count": null,
   "metadata": {},
   "outputs": [],
   "source": [
    "players = [\"Messi\", \"Ronaldo\", \"Neymar\", \"Hazard\", \"Mbappe\", \"Kimich\", \"Lewandolski\"]\n",
    "best_players = [\"Messi\", \"Ronaldo\", \"Hazard\"]\n",
    "\n",
    "for a in players:\n",
    "    if a == best_players:\n",
    "        print(\"This is one of tha Best Players\")\n",
    "        print(a)\n",
    "    else\n",
    "        print(\"No Match\")"
   ]
  },
  {
   "cell_type": "code",
   "execution_count": 22,
   "metadata": {},
   "outputs": [
    {
     "name": "stdout",
     "output_type": "stream",
     "text": [
      "1 2 3 4 5 6 7 8 9 \n",
      "2 4 6 8 10 12 14 16 18 \n",
      "3 6 9 12 15 18 21 24 27 \n",
      "4 8 12 16 20 24 28 32 36 \n",
      "5 10 15 20 25 30 35 40 45 \n",
      "6 12 18 24 30 36 42 48 54 \n",
      "7 14 21 28 35 42 49 56 63 \n",
      "8 16 24 32 40 48 56 64 72 \n",
      "9 18 27 36 45 54 63 72 81 \n"
     ]
    }
   ],
   "source": [
    "for i in range(1,10):\n",
    "    for j in range(1,10):\n",
    "        k = i*j\n",
    "        print (k, end=' ')\n",
    "    print()"
   ]
  },
  {
   "cell_type": "code",
   "execution_count": 23,
   "metadata": {},
   "outputs": [
    {
     "name": "stdout",
     "output_type": "stream",
     "text": [
      "Enter your name:\n",
      "sHAKEEL\n",
      "Enter you Age\n",
      "25\n",
      "Hello, sHAKEEL Your age is: 25\n",
      "Hello, sHAKEEL Your age is: 25\n"
     ]
    }
   ],
   "source": [
    "print('Enter your name:');\n",
    "\n",
    "x = input();\n",
    "print ('Enter you Age');\n",
    "a = input();\n",
    "print('Hello, ' + x +' Your age is: ' + a);\n",
    "\n",
    "print(\"Hello, \" + str(x) + \" Your age is: \" + str(a));"
   ]
  },
  {
   "cell_type": "code",
   "execution_count": 24,
   "metadata": {},
   "outputs": [
    {
     "name": "stdout",
     "output_type": "stream",
     "text": [
      "this should all be lowercase.\n",
      "THIS SHOULD ALL BE UPPERCASE.\n",
      "tHiS sHoUlD bE mIxEd CaSeD.\n"
     ]
    }
   ],
   "source": [
    "string = \"THIS SHOULD ALL BE LOWERCASE.\"\n",
    "print(string.lower())\n",
    "\n",
    "string = \"this should all be uppercase.\"\n",
    "print(string.upper())\n",
    "\n",
    "string = \"ThIs ShOuLd Be MiXeD cAsEd.\"\n",
    "print(string.swapcase())"
   ]
  },
  {
   "cell_type": "code",
   "execution_count": 25,
   "metadata": {},
   "outputs": [
    {
     "name": "stdout",
     "output_type": "stream",
     "text": [
      "{'Name': 'Shakeel Haider', 'Age': '24', 'DOB': '06/08/1994', 'Location': 'Karachi'}\n"
     ]
    }
   ],
   "source": [
    "BioData = {\n",
    "      \"Name\": \"Shakeel Haider\",\n",
    "      \"Age\": \"24\",\n",
    "      \"DOB\": \"06/08/1994\",\n",
    "      \"Location\": \"Karachi\"\n",
    "    }\n",
    "    \n",
    "print(BioData)"
   ]
  },
  {
   "cell_type": "code",
   "execution_count": 26,
   "metadata": {},
   "outputs": [
    {
     "name": "stdout",
     "output_type": "stream",
     "text": [
      "Name: Usama Riaz\n",
      "ID: 1500-2015\n",
      "Age: 21\n",
      "DOB: 29/05/1997\n",
      "Location: Karachi\n"
     ]
    }
   ],
   "source": [
    "Data = {\n",
    "  \"Name:\": \"Usama Riaz\",\n",
    "  \"ID:\": \"1500-2015\",\n",
    "  \"Age:\": \"21\",\n",
    "  \"DOB:\": \"29/05/1997\",\n",
    "  \"Location:\": \"Karachi\"\n",
    "}\n",
    "\n",
    "for a,b in Data.items():\n",
    "    print(a,b)"
   ]
  },
  {
   "cell_type": "code",
   "execution_count": 27,
   "metadata": {},
   "outputs": [
    {
     "name": "stdout",
     "output_type": "stream",
     "text": [
      "ID for Shakeel is 1735-2015\n",
      "Shakeel 1735-2015\n",
      "Usman 2370-2015\n",
      "Sohail 1432-2015\n"
     ]
    }
   ],
   "source": [
    "Names = {\n",
    "    \"Shakeel\": \"1735-2015\",\n",
    "    \"Usman\": \"2370-2015\",\n",
    "    \"Sohail\": \"1432-2015\"\n",
    "}\n",
    "print(\"ID for Shakeel is \" + Names[\"Shakeel\"])\n",
    "for k,v in Names.items():\n",
    "    print(k,v)"
   ]
  },
  {
   "cell_type": "code",
   "execution_count": 28,
   "metadata": {},
   "outputs": [
    {
     "name": "stdout",
     "output_type": "stream",
     "text": [
      "Integer Dictionary:\n",
      "{1: 'Pakistan', 2: 'India', 3: 'Sweden', 4: 'Iraq'}\n",
      "String Dictionary\n",
      "{'Country': 'Iraq'}\n"
     ]
    }
   ],
   "source": [
    "print(\"Integer Dictionary:\")\n",
    "IntDict = {1: \"Pakistan\", 2: \"India\", 3: \"Sweden\", 4: \"Iraq\"} \n",
    "print(IntDict)\n",
    "\n",
    "print(\"String Dictionary\")\n",
    "St1Dict = {\"Country\": \"Iraq\"} \n",
    "print(St1Dict)"
   ]
  },
  {
   "cell_type": "code",
   "execution_count": 29,
   "metadata": {},
   "outputs": [
    {
     "name": "stdout",
     "output_type": "stream",
     "text": [
      "{'name': 'Shakeel', 'age': 24}\n",
      "{'name': 'Shakeel', 'age': 24, 'Location': 'Karachi'}\n"
     ]
    }
   ],
   "source": [
    "Student = {'name':'Shakeel', 'age': 24}\n",
    "\n",
    "Student\n",
    " \n",
    "print(Student)\n",
    "Student['Location'] = 'Karachi'  \n",
    "\n",
    "print(Student)"
   ]
  },
  {
   "cell_type": "code",
   "execution_count": 30,
   "metadata": {},
   "outputs": [
    {
     "name": "stdout",
     "output_type": "stream",
     "text": [
      "{'name': 'Messi', 'age': 32, 'goals': 800, 'cap': 700}\n",
      "{'name': 'Messi', 'age': 33, 'goals': 800, 'cap': 700}\n",
      "{'name': 'Messi', 'age': 33, 'goals': 812, 'cap': 700}\n"
     ]
    }
   ],
   "source": [
    "players = { \"name\" : \"Messi\", \"age\" : 32, \"goals\": 800, \"cap\" : 700}\n",
    "print(players)\n",
    "players[\"age\"] = 33\n",
    "print(players)\n",
    "players[\"goals\"] = 812\n",
    "print(players)"
   ]
  },
  {
   "cell_type": "code",
   "execution_count": 31,
   "metadata": {},
   "outputs": [
    {
     "name": "stdout",
     "output_type": "stream",
     "text": [
      "Messi\n",
      "32\n",
      "800\n",
      "700\n"
     ]
    }
   ],
   "source": [
    "players = { \"name\" : \"Messi\", \"age\" : 32, \"goals\": 800, \"cap\" : 700}\n",
    "players\n",
    "for v in players.values():\n",
    "    print(v)"
   ]
  },
  {
   "cell_type": "code",
   "execution_count": 32,
   "metadata": {},
   "outputs": [
    {
     "name": "stdout",
     "output_type": "stream",
     "text": [
      "name\n",
      "age\n",
      "goals\n",
      "cap\n"
     ]
    }
   ],
   "source": [
    "players = { \"name\" : \"Messi\", \"age\" : 32, \"goals\": 800, \"cap\" : 700}\n",
    "\n",
    "players.keys()\n",
    "\n",
    "for k in players.keys():\n",
    "    print(k)"
   ]
  },
  {
   "cell_type": "code",
   "execution_count": 33,
   "metadata": {},
   "outputs": [
    {
     "name": "stdout",
     "output_type": "stream",
     "text": [
      "{'name': 'Messi', 'age': 32, 'goals': 800, 'cap': 700}\n",
      "name Messi\n",
      "age 32\n",
      "goals 800\n",
      "cap 700\n"
     ]
    }
   ],
   "source": [
    "players = { \"name\" : \"Messi\", \"age\" : 32, \"goals\": 800, \"cap\" : 700}\n",
    "print(players)\n",
    "\n",
    "for k,v in players.items():\n",
    "    print(k,v)"
   ]
  },
  {
   "cell_type": "code",
   "execution_count": 34,
   "metadata": {},
   "outputs": [
    {
     "name": "stdout",
     "output_type": "stream",
     "text": [
      "[{'name': 'messi', 'age': 33, 'goals': 814}, {'name': 'ronaldo', 'age': 46, 'goals': 77}]\n"
     ]
    }
   ],
   "source": [
    "players = [ \n",
    "    {\n",
    "        'name': 'messi',\n",
    "        'age': 33,\n",
    "        'goals': 814\n",
    "    },\n",
    "    \n",
    "{\n",
    "    'name': 'ronaldo',\n",
    "    'age': 46,\n",
    "    'goals': 77\n",
    "}\n",
    "]\n",
    "print(players)"
   ]
  },
  {
   "cell_type": "code",
   "execution_count": 35,
   "metadata": {},
   "outputs": [
    {
     "name": "stdout",
     "output_type": "stream",
     "text": [
      "[{'name': 'messi', 'age': 33, 'goals': 814}, {'name': 'ronaldo', 'age': 46, 'goals': 77}]\n",
      "814\n"
     ]
    }
   ],
   "source": [
    "players = [ \n",
    "    {\n",
    "        'name': 'messi',\n",
    "        'age': 33,\n",
    "        'goals': 814\n",
    "    },\n",
    "    \n",
    "{\n",
    "    'name': 'ronaldo',\n",
    "    'age': 46,\n",
    "    'goals': 77\n",
    "}\n",
    "]\n",
    "print(players)\n",
    "\n",
    "best = players[0]\n",
    "most_goals = best['goals']\n",
    "print(most_goals)"
   ]
  },
  {
   "cell_type": "code",
   "execution_count": 38,
   "metadata": {},
   "outputs": [
    {
     "name": "stdout",
     "output_type": "stream",
     "text": [
      "length of list is 9\n",
      "[{'customer id': 0, 'first name': 'Shakeel', 'last name': 'Haider'}, {'customer id': 1, 'first name': 'Zeeshan', 'last name:': 'Khan'}]\n"
     ]
    }
   ],
   "source": [
    "Listofnums = [1, 2, 3, 4, 5, 6,7,8,9]\n",
    "x = len(Listofnums)\n",
    "print(\"length of list is \" + str(x))\n",
    "\n",
    "customers = [\n",
    "  {\n",
    "    \"customer id\": 0,\n",
    "    \"first name\":\"Shakeel\",\n",
    "    \"last name\": \"Haider\",\n",
    "  }\n",
    "]\n",
    "\n",
    "new_customer_id = len(customers)\n",
    "new_first_name = \"Zeeshan\"\n",
    "new_last_name = \"Khan\"\n",
    "\n",
    "\n",
    "new_dictionary = {\n",
    "  \"customer id\": new_customer_id,\n",
    "  \"first name\": new_first_name,\n",
    "  \"last name:\": new_last_name,\n",
    "}\n",
    "customers.append(new_dictionary)\n",
    "print(customers)"
   ]
  },
  {
   "cell_type": "code",
   "execution_count": 39,
   "metadata": {},
   "outputs": [
    {
     "name": "stdout",
     "output_type": "stream",
     "text": [
      "This is dictionary\n",
      "{'population': 1000, 'group sizes': [47600, 45600, 20851]}\n",
      "This is List\n",
      "{'products': ['Fanta', 'Sprite', 'Pakola', 'Pepsi', '7up', 'Coca‑Cola'], 'product qtys': [5, 15, 6, 13, 22, 45, 24]}\n"
     ]
    }
   ],
   "source": [
    "dict = {\n",
    "  \"population\": 1000,\n",
    "  \"group sizes\": [47600, 45600, 20851],\n",
    "}\n",
    "print(\"This is dictionary\")\n",
    "print(dict)\n",
    "\n",
    "\n",
    "product_lists = {\n",
    "  \"products\": [\"Fanta\", \"Sprite\", \"Pakola\",\"Pepsi\", \"7up\", \"Coca‑Cola\" ],\n",
    "  \"product qtys\": [5, 15, 6, 13, 22, 45, 24],\n",
    "}\n",
    "print(\"This is List\")\n",
    "print(product_lists)"
   ]
  },
  {
   "cell_type": "code",
   "execution_count": 40,
   "metadata": {},
   "outputs": [
    {
     "name": "stdout",
     "output_type": "stream",
     "text": [
      "yes!\n"
     ]
    }
   ],
   "source": [
    "details = {\n",
    "  \"nickname\": \"Shakeel\",\n",
    "  \"married\": \"no\",\n",
    "  \"careers\": [\"Web Developer\", \"Software Engineer\", \"CEO\"],\n",
    "}\n",
    "if \"Web Developer\" in details[\"careers\"]:\n",
    "    print(\"yes!\")\n",
    "else:\n",
    "    print(\"no\")"
   ]
  },
  {
   "cell_type": "code",
   "execution_count": 41,
   "metadata": {},
   "outputs": [
    {
     "name": "stdout",
     "output_type": "stream",
     "text": [
      "[{'customer id': 0, 'first name': 'Shakeel', 'last name': 'Haider', 'address': 'S.I.T.E Town'}, {'customer id': 1, 'first name': 'Zeeshan', 'last name': 'Khan', 'address': 'Orangi Town'}, {'customer id': 2, 'first name': 'Ibrar', 'last name': 'Shah', 'address': 'Mardan'}]\n"
     ]
    }
   ],
   "source": [
    "customers = [\n",
    "    {\n",
    "         \"customer id\": 0,\n",
    "         \"first name\":\"Shakeel\",\n",
    "         \"last name\": \"Haider\",\n",
    "         \"address\": \"S.I.T.E Town\", \n",
    "    },\n",
    "    {\n",
    "        \"customer id\": 1,\n",
    "        \"first name\":\"Zeeshan\",\n",
    "        \"last name\": \"Khan\",\n",
    "        \"address\": \"Orangi Town\", \n",
    "    },\n",
    "    {\n",
    "        \"customer id\": 2, \n",
    "        \"first name\":\"Ibrar\",\n",
    "        \"last name\": \"Shah\",\n",
    "        \"address\": \"Mardan\", \n",
    "    },]\n",
    "\n",
    "print(str(customers))"
   ]
  },
  {
   "cell_type": "code",
   "execution_count": 42,
   "metadata": {},
   "outputs": [
    {
     "name": "stdout",
     "output_type": "stream",
     "text": [
      "{'First name': 'Shakeel', 'Middle name': 'Haider', 'Last name': 'Mashwani', 'Address': 'S.I.T.E Town'}\n",
      "{'First Name': 'Bilal', 'Middle name': 'Khan', 'Last Name': 'Mashwani', 'Address': 'Mardan'}\n",
      "{'First Name': 'Yasir', 'Middle name': 'Shah', 'Last Name': 'Ahmad Zai', 'Address': 'Karachi'}\n"
     ]
    }
   ],
   "source": [
    "customers = {\n",
    "  0:  {\n",
    "         \"First name\":\"Shakeel\",\n",
    "         \"Middle name\": \"Haider\",\n",
    "         \"Last name\": \"Mashwani\",\n",
    "         \"Address\": \"S.I.T.E Town\", \n",
    "    },\n",
    " 1:  {\n",
    "        \"First Name\":\"Bilal\",\n",
    "      \"Middle name\": \"Khan\",\n",
    "        \"Last Name\": \"Mashwani\",\n",
    "        \"Address\": \"Mardan\", \n",
    "    },\n",
    " 2:   { \n",
    "        \"First Name\":\"Yasir\",\n",
    "     \"Middle name\": \"Shah\",\n",
    "        \"Last Name\": \"Ahmad Zai\",\n",
    "        \"Address\": \"Karachi\", \n",
    "    },\n",
    "}\n",
    "print(customers[0])\n",
    "print(customers[1])\n",
    "print(customers[2])"
   ]
  },
  {
   "cell_type": "code",
   "execution_count": 43,
   "metadata": {},
   "outputs": [
    {
     "name": "stdout",
     "output_type": "stream",
     "text": [
      "Total no without function 14\n",
      "Total number with function 14\n"
     ]
    }
   ],
   "source": [
    "first_number = 6 \n",
    "second_number = 8\n",
    "total = first_number + second_number \n",
    "print(\"Total no without function\", total)\n",
    "\n",
    "def add_numbers():\n",
    "    first_number = 9\n",
    "    second_number = 3\n",
    "    total = first_number + second_number\n",
    "print(\"Total number with function\", total)"
   ]
  },
  {
   "cell_type": "code",
   "execution_count": 46,
   "metadata": {},
   "outputs": [
    {
     "name": "stdout",
     "output_type": "stream",
     "text": [
      "7\n",
      "9\n"
     ]
    }
   ],
   "source": [
    "def addition1():\n",
    "    num1 = 3\n",
    "    num2 = 4\n",
    "    sum = num1 + num2\n",
    "    print(sum)\n",
    "\n",
    "\n",
    "\n",
    "def addition(num1, num2):\n",
    "    sum = num1 + num2\n",
    "    print(sum)\n",
    "\n",
    "addition1()\n",
    "addition(4,5)"
   ]
  },
  {
   "cell_type": "code",
   "execution_count": 45,
   "metadata": {},
   "outputs": [
    {
     "name": "stdout",
     "output_type": "stream",
     "text": [
      "0\n",
      "8\n"
     ]
    }
   ],
   "source": [
    "def addition(num1=0, num2=0):\n",
    "    sum = num1 + num2\n",
    "    print(sum)\n",
    "    \n",
    "addition()\n",
    "addition(3,5)"
   ]
  },
  {
   "cell_type": "code",
   "execution_count": 47,
   "metadata": {},
   "outputs": [
    {
     "name": "stdout",
     "output_type": "stream",
     "text": [
      "0\n",
      "27\n"
     ]
    }
   ],
   "source": [
    "def addition(num1=0, num2=0):\n",
    "    sum = num1 + num2\n",
    "    print(sum)\n",
    "    \n",
    "addition()\n",
    "addition(4,23)"
   ]
  },
  {
   "cell_type": "code",
   "execution_count": 48,
   "metadata": {},
   "outputs": [
    {
     "name": "stdout",
     "output_type": "stream",
     "text": [
      "Enter your name or write sS\n",
      "Hello S !!!\n"
     ]
    }
   ],
   "source": [
    "def greeting(name=\"s\"):\n",
    "    if(name == \"s\"):\n",
    "        print(\"You didnt write your name\")\n",
    "    else:\n",
    "        print(\"Hello \" + str(name) + \" !!!\")\n",
    "        \n",
    "\n",
    "        \n",
    "var = input(\"Enter your name or write s\")\n",
    "greeting(var)"
   ]
  },
  {
   "cell_type": "code",
   "execution_count": 49,
   "metadata": {},
   "outputs": [
    {
     "name": "stdout",
     "output_type": "stream",
     "text": [
      "The winner was Barcelona\n",
      "The score was 6-0\n"
     ]
    }
   ],
   "source": [
    "def display_result(winner, score, **other_info):\n",
    "    print(\"The winner was \" + winner)\n",
    "    print(\"The score was \" + score)\n",
    "    for key, value in other_info.items():\n",
    "        print(key + \": \" + value)\n",
    "        \n",
    "        \n",
    "team = \"Barcelona\"\n",
    "goals = \"6-0\"\n",
    "injures = \"none\"\n",
    "substitute = 3\n",
    "\n",
    "display_result(team, goals)"
   ]
  },
  {
   "cell_type": "code",
   "execution_count": 1,
   "metadata": {},
   "outputs": [
    {
     "name": "stdout",
     "output_type": "stream",
     "text": [
      "Enter First NameSHAKEEL\n",
      "Enter Last NameHAIDER\n",
      "Hi SHAKEELHAIDER\n"
     ]
    }
   ],
   "source": [
    "def addition(val1, val2):\n",
    "    return \"Hi \" + str(val1) + str(val2)\n",
    "\n",
    "val1 = input(\"Enter First Name\")\n",
    "val2 = input(\"Enter Last Name\")\n",
    "sums = addition(val1, val2)\n",
    "print(sums)"
   ]
  },
  {
   "cell_type": "code",
   "execution_count": 2,
   "metadata": {},
   "outputs": [
    {
     "name": "stdout",
     "output_type": "stream",
     "text": [
      "Enter First Number4\n",
      "Enter Second Number5\n",
      "9\n",
      "-1\n",
      "20\n",
      "0.8\n"
     ]
    }
   ],
   "source": [
    "def add_Numbers(num1 , num2):\n",
    "    return num1 + num2\n",
    "\n",
    "def subtract_Numbers(num1, num2):\n",
    "    return num1 - num2\n",
    "\n",
    "def multi_Numbers(num1, num2):\n",
    "    return num1 * num2\n",
    "\n",
    "def devide_Numbers(num1, num2):\n",
    "    return num1 / num2\n",
    "\n",
    "x = int(input(\"Enter First Number\"))\n",
    "y = int(input(\"Enter Second Number\"))\n",
    "\n",
    "addition = add_Numbers(x , y)\n",
    "subtraction = subtract_Numbers(x, y)\n",
    "multiplication = multi_Numbers(x, y)\n",
    "division = devide_Numbers(x, y)\n",
    "\n",
    "print(addition)\n",
    "print(subtraction)\n",
    "print(multiplication)\n",
    "print(division)"
   ]
  },
  {
   "cell_type": "code",
   "execution_count": 3,
   "metadata": {},
   "outputs": [
    {
     "name": "stdout",
     "output_type": "stream",
     "text": [
      "5\n",
      "100\n"
     ]
    }
   ],
   "source": [
    "#global Variable\n",
    "x = 100\n",
    "\n",
    "def fun(x):\n",
    "    #local scope of variable\n",
    "    x = 3 + 2\n",
    "    return x\n",
    "\n",
    "local = fun(x)\n",
    "print(local)\n",
    "print(x)"
   ]
  },
  {
   "cell_type": "code",
   "execution_count": 4,
   "metadata": {},
   "outputs": [
    {
     "name": "stdout",
     "output_type": "stream",
     "text": [
      "Hello \n",
      "Shakeel\n"
     ]
    }
   ],
   "source": [
    "def fun():\n",
    "    def extra():\n",
    "        print(\"Hello \")\n",
    "    def extra1():\n",
    "        print(\"Shakeel\")\n",
    "    fun1 = extra()\n",
    "    fun2 = extra1()\n",
    "\n",
    "fun()"
   ]
  },
  {
   "cell_type": "code",
   "execution_count": 5,
   "metadata": {},
   "outputs": [
    {
     "name": "stdout",
     "output_type": "stream",
     "text": [
      "0\n",
      "1\n",
      "2\n",
      "3\n",
      "4\n",
      "5\n"
     ]
    }
   ],
   "source": [
    "num = 6\n",
    "val = 0\n",
    "while val!=num:\n",
    "    print(val)\n",
    "    val += 1"
   ]
  },
  {
   "cell_type": "code",
   "execution_count": 6,
   "metadata": {},
   "outputs": [
    {
     "name": "stdout",
     "output_type": "stream",
     "text": [
      "0\n",
      "1\n",
      "num now = 2\n",
      "3\n",
      "4\n",
      "5\n"
     ]
    }
   ],
   "source": [
    "num = 0\n",
    "\n",
    "while num != 5:\n",
    "    if(num == 2):\n",
    "        print(\"num now = 2\")\n",
    "    else:\n",
    "        print(num)\n",
    "    num = num + 1\n",
    "    \n",
    "print(num)"
   ]
  },
  {
   "cell_type": "code",
   "execution_count": 7,
   "metadata": {},
   "outputs": [
    {
     "name": "stdout",
     "output_type": "stream",
     "text": [
      "Name :  Shakeel , Salary:  2000\n",
      "Name :  Salman , Salary:  5000\n"
     ]
    }
   ],
   "source": [
    "class Employee:\n",
    "   empCount = 0\n",
    "\n",
    "   def __init__(self, name, salary):\n",
    "      self.name = name\n",
    "      self.salary = salary\n",
    "      Employee.empCount += 1\n",
    "   \n",
    "   def displayCount(self):\n",
    "     print(\"Total Employee %d\" % Employee.empCount)\n",
    "   \n",
    "   def displayEmployee(self):\n",
    "      print(\"Name : \", self.name,  \", Salary: \", self.salary)\n",
    "        \n",
    "        \n",
    "# This would create first object of Employee class\n",
    "emp1 = Employee(\"Shakeel\", 2000)\n",
    "# This would create second object of Employee class\n",
    "emp2 = Employee(\"Salman\", 5000)\n",
    "\n",
    "emp1.displayEmployee()\n",
    "emp2.displayEmployee()"
   ]
  },
  {
   "cell_type": "code",
   "execution_count": 8,
   "metadata": {},
   "outputs": [
    {
     "name": "stdout",
     "output_type": "stream",
     "text": [
      "Name :  Shakeel , Salary:  2000\n",
      "Name :  Salman , Salary:  5000\n"
     ]
    }
   ],
   "source": [
    "class Employee:\n",
    "   empCount = 0\n",
    "\n",
    "   def __init__(self, name, salary):\n",
    "      self.name = name\n",
    "      self.salary = salary\n",
    "      Employee.empCount += 1\n",
    "   \n",
    "   def displayCount(self):\n",
    "     print(\"Total Employee %d\" % Employee.empCount)\n",
    "   \n",
    "   def displayEmployee(self):\n",
    "      print(\"Name : \", self.name,  \", Salary: \", self.salary)\n",
    "        \n",
    "        \n",
    "# This would create first object of Employee class\n",
    "emp1 = Employee(\"Shakeel\", 2000)\n",
    "# This would create second object of Employee class\n",
    "emp2 = Employee(\"Salman\", 5000)\n",
    "\n",
    "emp1.displayEmployee()\n",
    "emp2.displayEmployee()"
   ]
  },
  {
   "cell_type": "code",
   "execution_count": 9,
   "metadata": {},
   "outputs": [
    {
     "name": "stdout",
     "output_type": "stream",
     "text": [
      "Name :  Shakeel , Salary:  2000\n",
      "Name :  Salman , Salary:  5000\n"
     ]
    }
   ],
   "source": [
    "class Employee:\n",
    "   empCount = 0\n",
    "\n",
    "   def __init__(self, name, salary):\n",
    "      self.name = name\n",
    "      self.salary = salary\n",
    "      Employee.empCount += 1\n",
    "   \n",
    "   def displayCount(self):\n",
    "     print(\"Total Employee %d\" % Employee.empCount)\n",
    "   \n",
    "   def displayEmployee(self):\n",
    "      print(\"Name : \", self.name,  \", Salary: \", self.salary)\n",
    "        \n",
    "        \n",
    "# This would create first object of Employee class\n",
    "emp1 = Employee(\"Shakeel\", 2000)\n",
    "# This would create second object of Employee class\n",
    "emp2 = Employee(\"Salman\", 5000)\n",
    "\n",
    "emp1.displayEmployee()\n",
    "emp2.displayEmployee()"
   ]
  },
  {
   "cell_type": "code",
   "execution_count": 10,
   "metadata": {},
   "outputs": [
    {
     "name": "stdout",
     "output_type": "stream",
     "text": [
      "Name :  Shakeel , Salary:  2000\n",
      "Name :  Salman , Salary:  5000\n"
     ]
    }
   ],
   "source": [
    "class Employee:\n",
    "   empCount = 0\n",
    "\n",
    "   def __init__(self, name, salary):\n",
    "      self.name = name\n",
    "      self.salary = salary\n",
    "      Employee.empCount += 1\n",
    "   \n",
    "   def displayCount(self):\n",
    "     print(\"Total Employee %d\" % Employee.empCount)\n",
    "   \n",
    "   def displayEmployee(self):\n",
    "      print(\"Name : \", self.name,  \", Salary: \", self.salary)\n",
    "        \n",
    "        \n",
    "# This would create first object of Employee class\n",
    "emp1 = Employee(\"Shakeel\", 2000)\n",
    "# This would create second object of Employee class\n",
    "emp2 = Employee(\"Salman\", 5000)\n",
    "\n",
    "emp1.displayEmployee()\n",
    "emp2.displayEmployee()"
   ]
  },
  {
   "cell_type": "code",
   "execution_count": 11,
   "metadata": {},
   "outputs": [
    {
     "name": "stdout",
     "output_type": "stream",
     "text": [
      "Name : Shakeel, Salary: 2000, Age: 24\n",
      "Name : Salman, Salary: 5000, Age: 27\n"
     ]
    }
   ],
   "source": [
    "class Employee:\n",
    "   empCount = 0\n",
    "\n",
    "   def __init__(self, name, salary, Age):\n",
    "      self.name = name\n",
    "      self.salary = salary\n",
    "      self.Age = Age\n",
    "      Employee.empCount += 1\n",
    "   \n",
    "   def displayCount(self):\n",
    "     print(\"Total Employee %d\" % Employee.empCount)\n",
    "   \n",
    "   def displayEmployee(self):\n",
    "      print(\"Name : \"+ str(self.name)+  \", Salary: \"+ str(self.salary)+ \", Age: \"+ str(self.Age))\n",
    "        \n",
    "        \n",
    "# This would create first object of Employee class\n",
    "emp1 = Employee(\"Shakeel\", 2000, 24)\n",
    "# This would create second object of Employee class\n",
    "emp2 = Employee(\"Salman\", 5000, 27)\n",
    "\n",
    "emp1.displayEmployee()\n",
    "emp2.displayEmployee()"
   ]
  },
  {
   "cell_type": "code",
   "execution_count": 12,
   "metadata": {},
   "outputs": [
    {
     "name": "stdout",
     "output_type": "stream",
     "text": [
      "Shakeel\n",
      "24\n",
      "Salman\n",
      "27\n"
     ]
    }
   ],
   "source": [
    "class Employee:\n",
    "   empCount = 0\n",
    "\n",
    "   def __init__(self, name, salary, Age):\n",
    "      self.name = name\n",
    "      self.salary = salary\n",
    "      self.Age = Age\n",
    "      Employee.empCount += 1\n",
    "   \n",
    "   def displayCount(self):\n",
    "     print(\"Total Employee %d\" % Employee.empCount)\n",
    "   \n",
    "   def displayEmployee(self):\n",
    "      print(\"Name : \"+ str(self.name)+  \", Salary: \"+ str(self.salary)+ \", Age: \"+ str(self.Age))\n",
    "        \n",
    "        \n",
    "# This would create first object of Employee class\n",
    "emp1 = Employee(\"Shakeel\", 2000, 24)\n",
    "# This would create second object of Employee class\n",
    "emp2 = Employee(\"Salman\", 5000, 27)\n",
    "\n",
    "name1 = emp1.name\n",
    "name2 = emp2.name\n",
    "\n",
    "age1 = emp1.Age\n",
    "age2 = emp2.Age\n",
    "\n",
    "print(name1)\n",
    "print(age1)\n",
    "print(name2)\n",
    "print(age2)"
   ]
  },
  {
   "cell_type": "code",
   "execution_count": 13,
   "metadata": {},
   "outputs": [
    {
     "name": "stdout",
     "output_type": "stream",
     "text": [
      "Shakeel\n",
      "24\n",
      "Salman\n",
      "27\n"
     ]
    }
   ],
   "source": [
    "class Employee:\n",
    "   empCount = 0\n",
    "\n",
    "   def __init__(self, name, salary, Age):\n",
    "      self.name = name\n",
    "      self.salary = salary\n",
    "      self.Age = Age\n",
    "      Employee.empCount += 1\n",
    "   \n",
    "   def displayCount(self):\n",
    "     print(\"Total Employee %d\" % Employee.empCount)\n",
    "   \n",
    "   def displayEmployee(self):\n",
    "      print(\"Name : \"+ str(self.name)+  \", Salary: \"+ str(self.salary)+ \", Age: \"+ str(self.Age))\n",
    "        \n",
    "        \n",
    "# This would create first object of Employee class\n",
    "emp1 = Employee(\"Shakeel\", 2000, 24)\n",
    "# This would create second object of Employee class\n",
    "emp2 = Employee(\"Salman\", 5000, 27)\n",
    "\n",
    "name1 = emp1.name\n",
    "name2 = emp2.name\n",
    "\n",
    "age1 = emp1.Age\n",
    "age2 = emp2.Age\n",
    "\n",
    "print(name1)\n",
    "print(age1)\n",
    "print(name2)\n",
    "print(age2)"
   ]
  },
  {
   "cell_type": "code",
   "execution_count": 14,
   "metadata": {},
   "outputs": [
    {
     "name": "stdout",
     "output_type": "stream",
     "text": [
      "Shakeel\n",
      "24\n",
      "Salman\n",
      "27\n"
     ]
    }
   ],
   "source": [
    "class Employee:\n",
    "   empCount = 0\n",
    "\n",
    "   def __init__(self, name, salary, Age):\n",
    "      self.name = name\n",
    "      self.salary = salary\n",
    "      self.Age = Age\n",
    "      Employee.empCount += 1\n",
    "   \n",
    "   def displayCount(self):\n",
    "     print(\"Total Employee %d\" % Employee.empCount)\n",
    "   \n",
    "   def displayEmployee(self):\n",
    "      print(\"Name : \"+ str(self.name)+  \", Salary: \"+ str(self.salary)+ \", Age: \"+ str(self.Age))\n",
    "        \n",
    "        \n",
    "# This would create first object of Employee class\n",
    "emp1 = Employee(\"Shakeel\", 2000, 24)\n",
    "# This would create second object of Employee class\n",
    "emp2 = Employee(\"Salman\", 5000, 27)\n",
    "\n",
    "name1 = emp1.name\n",
    "name2 = emp2.name\n",
    "\n",
    "age1 = emp1.Age\n",
    "age2 = emp2.Age\n",
    "\n",
    "print(name1)\n",
    "print(age1)\n",
    "print(name2)\n",
    "print(age2)"
   ]
  },
  {
   "cell_type": "code",
   "execution_count": 15,
   "metadata": {},
   "outputs": [
    {
     "name": "stdout",
     "output_type": "stream",
     "text": [
      "Shakeel\n",
      "24\n",
      "Salman\n",
      "27\n",
      "45\n"
     ]
    }
   ],
   "source": [
    "class Employee:\n",
    "   empCount = 0\n",
    "\n",
    "   def __init__(self, name, salary, Age):\n",
    "      self.name = name\n",
    "      self.salary = salary\n",
    "      self.Age = Age\n",
    "      Employee.empCount += 1\n",
    "   \n",
    "   def displayCount(self):\n",
    "     print(\"Total Employee %d\" % Employee.empCount)\n",
    "   \n",
    "   def displayEmployee(self):\n",
    "      print(\"Name : \"+ str(self.name)+  \", Salary: \"+ str(self.salary)+ \", Age: \"+ str(self.Age))\n",
    "   \n",
    "   def changeAge(self, newAge):\n",
    "        self.Age = newAge\n",
    "        \n",
    "        \n",
    "# This would create first object of Employee class\n",
    "emp1 = Employee(\"Shakeel\", 2000, 24)\n",
    "# This would create second object of Employee class\n",
    "emp2 = Employee(\"Salman\", 5000, 27)\n",
    "\n",
    "name1 = emp1.name\n",
    "name2 = emp2.name\n",
    "\n",
    "age1 = emp1.Age\n",
    "age2 = emp2.Age\n",
    "\n",
    "print(name1)\n",
    "print(age1)\n",
    "print(name2)\n",
    "print(age2)\n",
    "\n",
    "emp1.changeAge(45)\n",
    "\n",
    "print(str(emp1.Age))"
   ]
  },
  {
   "cell_type": "code",
   "execution_count": null,
   "metadata": {},
   "outputs": [],
   "source": []
  }
 ],
 "metadata": {
  "kernelspec": {
   "display_name": "Python 3",
   "language": "python",
   "name": "python3"
  },
  "language_info": {
   "codemirror_mode": {
    "name": "ipython",
    "version": 3
   },
   "file_extension": ".py",
   "mimetype": "text/x-python",
   "name": "python",
   "nbconvert_exporter": "python",
   "pygments_lexer": "ipython3",
   "version": "3.6.5"
  }
 },
 "nbformat": 4,
 "nbformat_minor": 2
}
